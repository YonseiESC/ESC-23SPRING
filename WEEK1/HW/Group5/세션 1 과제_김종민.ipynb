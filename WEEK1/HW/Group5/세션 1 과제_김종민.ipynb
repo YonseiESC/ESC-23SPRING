{
 "cells": [
  {
   "cell_type": "markdown",
   "metadata": {},
   "source": [
    "## Realxed A-optimal experiment design"
   ]
  },
  {
   "cell_type": "markdown",
   "metadata": {},
   "source": [
    "아래와 같이 생성된 데이터가 있습니다."
   ]
  },
  {
   "cell_type": "code",
   "execution_count": 1,
   "metadata": {},
   "outputs": [],
   "source": [
    "using Random\n",
    "Random.seed!(2023)\n",
    "n = 5; # 추정해야 하는 parameter의 개수\n",
    "p = 20; # 가능한 실험의 가짓수\n",
    "m = 30; # 실험 횟수\n",
    "V = randn(n,p); #V의 각 열은 v1,...,vp 벡터를 나타냅니다."
   ]
  },
  {
   "cell_type": "code",
   "execution_count": 2,
   "metadata": {},
   "outputs": [
    {
     "data": {
      "text/plain": [
       "5×20 Matrix{Float64}:\n",
       "  0.100418  -0.205944    0.174579  …  -0.358438   -3.05665   -0.950952\n",
       "  0.539314   0.910159    0.599171     -0.528173   -0.43402    0.214853\n",
       "  0.032493  -0.7272     -0.219329     -0.0194823  -0.766573   1.9933\n",
       " -1.82519   -0.211406    0.892193      0.709027    0.085981   1.23662\n",
       " -1.1939    -0.0310205   1.07485      -0.21846    -0.726084   0.0255155"
      ]
     },
     "execution_count": 2,
     "metadata": {},
     "output_type": "execute_result"
    }
   ],
   "source": [
    "V"
   ]
  },
  {
   "cell_type": "markdown",
   "metadata": {},
   "source": [
    "Q1. 다음과 같이 표현된 $\\lambda \\in \\mathbb{R}^p$에 대한 optimization 문제를 해결하세요.\n",
    "\n",
    "$$\n",
    "\\begin{array}{ll}\n",
    "    \\text{minimize}   & (1/m)\\mathbf{tr}\\left(\\sum_{i=1}^p \\lambda_i\\nu_i\\nu_i^T\\right)^{-1} \\\\\n",
    "    \\text{subject to} & \\mathbf{1}^T\\lambda =1,\\,\\,\\lambda\\succeq 0\n",
    "\\end{array}\n",
    "$$\n",
    "\n",
    "\n",
    "Q2. 위 문제의 solution $\\lambda^*$는 $m_1,\\,m_2,\\,...\\,,m_p$에 대한 아래 A-optimal design problem의 solution의 lower bound가 됩니다. 그 이유는 무엇일까요? (세션의 relaxed experiment design 부분에서 나왔습니다!)\n",
    "\n",
    "$$\n",
    "\\begin{array}{ll}\n",
    "    \\text{minimize}   & \\mathbf{tr}\\left(\\sum_{i=1}^p m_i\\nu_i\\nu_i^T\\right)^{-1} \\\\\n",
    "    \\text{subject to} & m_1 + m_2 +\\,...\\,+ m_p = m ,\\,\\, m \\in \\left\\{0,1,\\,...\\,,m\\right\\}\n",
    "\\end{array}\n",
    "$$\n",
    "\n",
    "Q3. solution을 구한 후 $\\hat{m}_i = \\mathbf{round}(m\\lambda_i^*)$를 구하세요. 이 정수 $\\hat{m}_i$들에 대한 sub-optimal objective value를 계산하고, 이 upper bound와 lower bound의 차이를 구하세요. "
   ]
  },
  {
   "cell_type": "markdown",
   "metadata": {},
   "source": [
    "> 입력 변수로 주어진 행렬 Σ에 대한 A-최적설계(A-optimal design)를 구하는 문제에서 Σ의 역행렬이 최대가 되어야 한다.A-최적설계는 주로 최소분산추정량(Minimum variance estimation)의 효율성을 최대화하기 위해 사용된다. 즉, A-최적설계에서는 특정한 실험을 최소한으로 수행하여 실험 결과에 대한 정보를 최대한 많이 얻을 수 있도록 설계하는 것이다.\n",
    "\n",
    "> 주어진 실험 계획에 대한 정보가 행렬 Σ에 포함되어 있으며, 최적화 문제에서 구한 λ* 는 행렬 Σ의 조합을 결정하는 값이다.\n",
    "\n",
    "> 따라서, 최적화 문제에서 구한 λ는 실험계획의 A-최적설계를 나타내며, λ의 역수인 (∑𝑝𝑖=1𝜆𝑖𝜈𝑖𝜈𝑇𝑖)^-1은 A-최적설계의 행렬 Σ의 역행렬에 해당한다. 그래서 주어진 최적화 문제에서 구한 λ* 는 A-최적설계의 하한선(lower bound)이 된다."
   ]
  },
  {
   "cell_type": "markdown",
   "metadata": {},
   "source": [
    "> 주어진 실험 계획에 대한 정보가 행렬 Σ에 포함되어 있으며, 최적화 문제에서 구한 λ*는 행렬 Σ의 조합을 결정하는 값이다."
   ]
  },
  {
   "cell_type": "markdown",
   "metadata": {},
   "source": [
    "#유의사항: Convex 패키지는 trace로 구성된 목적함수를 인식하지 못하므로, matrix fractional function (교재 76p example 3.4 참조)을 이용하여 formulation해줘야 합니다. kth unit vector $e_k$에 대해 reformulation하면 위의 목적함수는 다음과 같이 바뀝니다. 사실 trace를 다른 형태로 표현한 것에 불과하다는 점이 보입니다.\n",
    "\n",
    "$$ (1/m)\\sum_{k=1}^n e_k^T \\left(\\sum_{i=1}^p \\lambda_i\\nu_i\\nu_i^T\\right)^{-1}e_k $$\n",
    "\n",
    "#hint: 벡터 x, 행렬 P에 대해 함수 matrixfrac(x, P)는 $x^TP^{-1}x$를 리턴합니다."
   ]
  },
  {
   "cell_type": "code",
   "execution_count": 3,
   "metadata": {},
   "outputs": [],
   "source": [
    "using Convex, SCS\n",
    "using LinearAlgebra"
   ]
  },
  {
   "cell_type": "code",
   "execution_count": 4,
   "metadata": {},
   "outputs": [
    {
     "name": "stdout",
     "output_type": "stream",
     "text": [
      "------------------------------------------------------------------\n",
      "\t       SCS v3.2.1 - Splitting Conic Solver\n",
      "\t(c) Brendan O'Donoghue, Stanford University, 2012\n",
      "------------------------------------------------------------------\n",
      "problem:  variables n: 26, constraints m: 202\n",
      "cones: \t  z: primal zero / dual free vars: 77\n",
      "\t  l: linear vars: 20\n",
      "\t  s: psd vars: 105, ssize: 5\n",
      "settings: eps_abs: 1.0e-004, eps_rel: 1.0e-004, eps_infeas: 1.0e-007\n",
      "\t  alpha: 1.50, scale: 1.00e-001, adaptive_scale: 1\n",
      "\t  max_iters: 100000, normalize: 1, rho_x: 1.00e-006\n",
      "\t  acceleration_lookback: 10, acceleration_interval: 10\n",
      "lin-sys:  sparse-direct-amd-qdldl\n",
      "\t  nnz(A): 1551, nnz(P): 0\n",
      "------------------------------------------------------------------\n",
      " iter | pri res | dua res |   gap   |   obj   |  scale  | time (s)\n",
      "------------------------------------------------------------------\n",
      "     0|3.12e+001 1.00e+000 2.63e+000 -1.02e+000 1.00e-001 1.17e-003 \n",
      "   150|7.80e-005 1.90e-004 3.89e-005 6.84e-002 1.00e-001 2.96e-002 \n",
      "------------------------------------------------------------------\n",
      "status:  solved\n",
      "timings: total: 2.96e-002s = setup: 6.87e-004s + solve: 2.89e-002s\n",
      "\t lin-sys: 1.26e-003s, cones: 2.71e-002s, accel: 1.04e-004s\n",
      "------------------------------------------------------------------\n",
      "objective = 0.068414\n",
      "------------------------------------------------------------------\n"
     ]
    }
   ],
   "source": [
    "#obj 함수 정의와 constraints를 채우세요.\n",
    "λ = Variable(p)  \n",
    "obj = 0\n",
    "mat1 = zeros(5,5)\n",
    "for k in 1:n #바깥쪽 k에 대한 시그마의 표현\n",
    "    ek = zeros(n,1) #kth unit vector를 표현하는 것입니다.\n",
    "    ek[k] = 1\n",
    "    for i in 1:20\n",
    "        mat1 += λ[i]*V[:,i]*transpose(V[:,i])\n",
    "    end\n",
    "    obj += 1/m * matrixfrac(ek,mat1)\n",
    "end \n",
    "\n",
    "problem = minimize(obj)\n",
    "\n",
    "problem.constraints += sum(λ)==1\n",
    "problem.constraints += λ >= 0\n",
    "\n",
    "solve!(problem, SCS.Optimizer)\n",
    "\n",
    "sol_lambda = evaluate(λ);"
   ]
  },
  {
   "cell_type": "code",
   "execution_count": 5,
   "metadata": {
    "scrolled": true
   },
   "outputs": [
    {
     "data": {
      "text/plain": [
       "20-element Vector{Float64}:\n",
       "  0.10222400214619148\n",
       " -1.700604255726217e-6\n",
       " -6.057339206654259e-6\n",
       "  0.14205185623223834\n",
       " -2.630805203447584e-6\n",
       " -3.8365792859731184e-7\n",
       " -8.922599895275597e-6\n",
       "  1.624325538214939e-6\n",
       "  0.0811229004734365\n",
       " -2.185353287862209e-6\n",
       " -6.306031921437921e-6\n",
       " -3.2527405429452482e-6\n",
       "  0.23077235724503706\n",
       "  9.311625982721185e-7\n",
       " -2.5804391835543675e-7\n",
       "  0.1387184969624399\n",
       "  0.023833210974340758\n",
       " -2.0087382623913585e-6\n",
       "  0.2001894832348481\n",
       "  0.0811188660274495"
      ]
     },
     "execution_count": 5,
     "metadata": {},
     "output_type": "execute_result"
    }
   ],
   "source": [
    "evaluate(λ)"
   ]
  },
  {
   "cell_type": "code",
   "execution_count": 6,
   "metadata": {
    "scrolled": false
   },
   "outputs": [
    {
     "data": {
      "text/plain": [
       "20-element Vector{Float64}:\n",
       "  3.0\n",
       " -0.0\n",
       " -0.0\n",
       "  4.0\n",
       " -0.0\n",
       " -0.0\n",
       " -0.0\n",
       "  0.0\n",
       "  2.0\n",
       " -0.0\n",
       " -0.0\n",
       " -0.0\n",
       "  7.0\n",
       "  0.0\n",
       " -0.0\n",
       "  4.0\n",
       "  1.0\n",
       " -0.0\n",
       "  6.0\n",
       "  2.0"
      ]
     },
     "execution_count": 6,
     "metadata": {},
     "output_type": "execute_result"
    }
   ],
   "source": [
    "m_hat = round.(m*sol_lambda)"
   ]
  },
  {
   "cell_type": "code",
   "execution_count": 7,
   "metadata": {},
   "outputs": [
    {
     "data": {
      "text/plain": [
       "5×5 Matrix{Float64}:\n",
       " 0.0  0.0  0.0  0.0  0.0\n",
       " 0.0  0.0  0.0  0.0  0.0\n",
       " 0.0  0.0  0.0  0.0  0.0\n",
       " 0.0  0.0  0.0  0.0  0.0\n",
       " 0.0  0.0  0.0  0.0  0.0"
      ]
     },
     "execution_count": 7,
     "metadata": {},
     "output_type": "execute_result"
    }
   ],
   "source": [
    "k = zeros(5,5)"
   ]
  },
  {
   "cell_type": "code",
   "execution_count": 8,
   "metadata": {},
   "outputs": [],
   "source": [
    "for i in 1:20\n",
    "    k += sol_lambda[i] * V[:,i] * transpose(V[:,i])\n",
    "end"
   ]
  },
  {
   "cell_type": "code",
   "execution_count": 9,
   "metadata": {},
   "outputs": [
    {
     "data": {
      "text/plain": [
       "6.57391184426424"
      ]
     },
     "execution_count": 9,
     "metadata": {},
     "output_type": "execute_result"
    }
   ],
   "source": [
    "tr(k)"
   ]
  },
  {
   "cell_type": "code",
   "execution_count": 10,
   "metadata": {},
   "outputs": [
    {
     "data": {
      "text/plain": [
       "6.57391184426424"
      ]
     },
     "execution_count": 10,
     "metadata": {},
     "output_type": "execute_result"
    }
   ],
   "source": [
    "subopt = tr(k)"
   ]
  },
  {
   "cell_type": "code",
   "execution_count": 11,
   "metadata": {},
   "outputs": [
    {
     "data": {
      "text/plain": [
       "6.505522340283494"
      ]
     },
     "execution_count": 11,
     "metadata": {},
     "output_type": "execute_result"
    }
   ],
   "source": [
    "subopt - evaluate(obj)"
   ]
  }
 ],
 "metadata": {
  "kernelspec": {
   "display_name": "Julia 1.8.5",
   "language": "julia",
   "name": "julia-1.8"
  },
  "language_info": {
   "file_extension": ".jl",
   "mimetype": "application/julia",
   "name": "julia",
   "version": "1.8.5"
  },
  "toc": {
   "base_numbering": 1,
   "nav_menu": {},
   "number_sections": true,
   "sideBar": true,
   "skip_h1_title": false,
   "title_cell": "Table of Contents",
   "title_sidebar": "Contents",
   "toc_cell": false,
   "toc_position": {},
   "toc_section_display": true,
   "toc_window_display": false
  }
 },
 "nbformat": 4,
 "nbformat_minor": 5
}
